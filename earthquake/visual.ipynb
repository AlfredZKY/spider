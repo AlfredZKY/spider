{
 "cells": [
  {
   "cell_type": "code",
   "execution_count": 31,
   "metadata": {
    "ExecuteTime": {
     "end_time": "2019-11-09T14:58:05.741997Z",
     "start_time": "2019-11-09T14:58:05.732989Z"
    }
   },
   "outputs": [],
   "source": [
    "import time\n",
    "import datetime\n",
    "import matplotlib.pyplot as plt\n",
    "import pandas as pd\n",
    "import numpy as np\n",
    "import matplotlib\n",
    "%matplotlib inline"
   ]
  },
  {
   "cell_type": "code",
   "execution_count": 30,
   "metadata": {
    "ExecuteTime": {
     "end_time": "2019-11-09T14:58:03.949357Z",
     "start_time": "2019-11-09T14:58:03.945353Z"
    }
   },
   "outputs": [],
   "source": [
    "plt.rcParams['font.sans-serif']=['SimHei'] #用来正常显示中文标签\n",
    "plt.rcParams['axes.unicode_minus']=False #用来正常显示负号"
   ]
  },
  {
   "cell_type": "code",
   "execution_count": 2,
   "metadata": {
    "ExecuteTime": {
     "end_time": "2019-11-09T14:23:51.203122Z",
     "start_time": "2019-11-09T14:23:51.199120Z"
    }
   },
   "outputs": [],
   "source": [
    "def date_to_timestamp():\n",
    "    ts = str(time.time()*1000)\n",
    "    ts = int(ts[:13])\n",
    "    return ts"
   ]
  },
  {
   "cell_type": "code",
   "execution_count": 3,
   "metadata": {
    "ExecuteTime": {
     "end_time": "2019-11-09T14:24:06.485997Z",
     "start_time": "2019-11-09T14:24:06.474988Z"
    }
   },
   "outputs": [
    {
     "data": {
      "text/plain": [
       "1573309446475"
      ]
     },
     "execution_count": 3,
     "metadata": {},
     "output_type": "execute_result"
    }
   ],
   "source": [
    "date_to_timestamp()"
   ]
  },
  {
   "cell_type": "code",
   "execution_count": 7,
   "metadata": {
    "ExecuteTime": {
     "end_time": "2019-11-09T14:26:38.015936Z",
     "start_time": "2019-11-09T14:26:38.010935Z"
    }
   },
   "outputs": [
    {
     "data": {
      "text/plain": [
       "'2019-11-09 22:24:06'"
      ]
     },
     "execution_count": 7,
     "metadata": {},
     "output_type": "execute_result"
    }
   ],
   "source": [
    "timeStamp = int(str(1573309446475)[:10])\n",
    "timeArray = time.localtime(timeStamp)\n",
    "otherStyleTime = time.strftime(\"%Y-%m-%d %H:%M:%S\",timeArray)\n",
    "otherStyleTime"
   ]
  },
  {
   "cell_type": "code",
   "execution_count": 37,
   "metadata": {
    "ExecuteTime": {
     "end_time": "2019-11-09T15:07:06.156834Z",
     "start_time": "2019-11-09T15:07:05.879580Z"
    }
   },
   "outputs": [
    {
     "data": {
      "image/png": "[encoded data removed]",
      "text/plain": [
       "<Figure size 432x288 with 1 Axes>"
      ]
     },
     "metadata": {
      "needs_background": "light"
     },
     "output_type": "display_data"
    }
   ],
   "source": [
    "# 设置表头\n",
    "columns = ['CATA_ID','Magnitude','Earthquake_Time','Latitude','Longitude','Depth','Earthquake_Location','Url']\n",
    "df = pd.read_csv('./data/最近一年世界地震情况.csv',encoding='utf-8',header=None,names=columns)\n",
    "\n",
    "# 按得分降序排列\n",
    "df_score = df.sort_values('Magnitude',ascending=False)\n",
    "# df.info\n",
    "\n",
    "# x轴坐标\n",
    "loc = df_score.Earthquake_Location[:10]\n",
    "\n",
    "# y轴坐标\n",
    "m = df_score.Magnitude[:10]\n",
    "# print(loc,m)\n",
    "\n",
    "# 绘制条形图，用range()能保持x轴顺序\n",
    "plt.bar(range(10),m,tick_label=loc)\n",
    "\n",
    "# 设置纵坐标轴范围\n",
    "plt.ylim((1,10))\n",
    "\n",
    "# 设置标题\n",
    "plt.title(\"近一年全球震级级别最高 Top10\",color='red')\n",
    "\n",
    "# 设置x，y轴标题\n",
    "plt.xlabel('地震具体位置',color='red')\n",
    "plt.ylabel('地震级别',color='red')\n",
    "\n",
    "# 为每个图形添加数值标签\n",
    "for x,y in enumerate(list(m)):\n",
    "    plt.text(x,y+0.2,\"%s\" % round(y,1),ha='center')\n",
    "\n",
    "# x轴名字太长发生重叠，旋转为纵向显示\n",
    "plt.xticks(rotation=290)\n",
    "\n",
    "# 自动控制空白边缘，以全部显示X轴名称\n",
    "plt.tight_layout()\n",
    "\n",
    "plt.show()"
   ]
  },
  {
   "cell_type": "code",
   "execution_count": null,
   "metadata": {},
   "outputs": [],
   "source": []
  }
 ],
 "metadata": {
  "kernelspec": {
   "display_name": "py3.6",
   "language": "python",
   "name": "py3.6"
  },
  "language_info": {
   "codemirror_mode": {
    "name": "ipython",
    "version": 3
   },
   "file_extension": ".py",
   "mimetype": "text/x-python",
   "name": "python",
   "nbconvert_exporter": "python",
   "pygments_lexer": "ipython3",
   "version": "3.6.2"
  },
  "toc": {
   "base_numbering": 1,
   "nav_menu": {},
   "number_sections": true,
   "sideBar": true,
   "skip_h1_title": false,
   "title_cell": "Table of Contents",
   "title_sidebar": "Contents",
   "toc_cell": false,
   "toc_position": {},
   "toc_section_display": true,
   "toc_window_display": false
  },
  "varInspector": {
   "cols": {
    "lenName": 16,
    "lenType": 16,
    "lenVar": 40
   },
   "kernels_config": {
    "python": {
     "delete_cmd_postfix": "",
     "delete_cmd_prefix": "del ",
     "library": "var_list.py",
     "varRefreshCmd": "print(var_dic_list())"
    },
    "r": {
     "delete_cmd_postfix": ") ",
     "delete_cmd_prefix": "rm(",
     "library": "var_list.r",
     "varRefreshCmd": "cat(var_dic_list()) "
    }
   },
   "types_to_exclude": [
    "module",
    "function",
    "builtin_function_or_method",
    "instance",
    "_Feature"
   ],
   "window_display": false
  }
 },
 "nbformat": 4,
 "nbformat_minor": 2
}
